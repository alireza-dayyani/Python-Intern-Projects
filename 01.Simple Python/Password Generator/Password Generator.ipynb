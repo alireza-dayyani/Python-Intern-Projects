{
 "cells": [
  {
   "cell_type": "code",
   "execution_count": 10,
   "id": "14bd6ee7",
   "metadata": {},
   "outputs": [
    {
     "name": "stdout",
     "output_type": "stream",
     "text": [
      "How many passwords: 8\n",
      "1th password: Eguar\"*_L6\n",
      "2th password: 1L9>ds\n",
      "3th password: I0*b6tB~i=\n",
      "4th password: `7<Xd`jEsO6;f_?\n",
      "5th password: A\"T]K1_qf?P$?9*\n",
      "6th password: ,tq)K3%#\n",
      "7th password: ;Ibpaljq1B-5\n",
      "8th password: ^&H*Bod4KY-\n"
     ]
    }
   ],
   "source": [
    "import random\n",
    "import string\n",
    "def password_generator(num):\n",
    "    matrix=[]\n",
    "    for i in range(num):\n",
    "        password_len=random.randint(6,16)\n",
    "        password=[]\n",
    "        password.append(random.choice(string.ascii_uppercase))\n",
    "        password.append(random.choice(string.ascii_lowercase))\n",
    "        password.append(random.choice(string.digits))\n",
    "        password.append(random.choice(string.punctuation))\n",
    "        for i in range(password_len-4):\n",
    "            password.append(random.choice(string.ascii_uppercase+string.ascii_lowercase+string.digits+string.punctuation))\n",
    "        random.shuffle(password)\n",
    "        matrix.append(password)\n",
    "    return matrix\n",
    "user_number=int(input(\"How many passwords: \"))\n",
    "generated_passwords=password_generator(user_number)\n",
    "for i in range(user_number):\n",
    "    print(f\"{i+1}th password: {''.join(generated_passwords[i])}\")\n",
    "with open(\"passwords.txt\",mode=\"w\") as file1:\n",
    "    for i,j in enumerate(generated_passwords):\n",
    "        file1.write(f\"Password {i+1}: {''.join(j)}\\n\")"
   ]
  }
 ],
 "metadata": {
  "kernelspec": {
   "display_name": "Python 3 (ipykernel)",
   "language": "python",
   "name": "python3"
  },
  "language_info": {
   "codemirror_mode": {
    "name": "ipython",
    "version": 3
   },
   "file_extension": ".py",
   "mimetype": "text/x-python",
   "name": "python",
   "nbconvert_exporter": "python",
   "pygments_lexer": "ipython3",
   "version": "3.11.5"
  }
 },
 "nbformat": 4,
 "nbformat_minor": 5
}
