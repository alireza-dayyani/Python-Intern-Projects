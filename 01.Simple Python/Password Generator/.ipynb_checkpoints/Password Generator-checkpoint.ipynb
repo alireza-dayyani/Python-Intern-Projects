{
 "cells": [
  {
   "cell_type": "code",
   "execution_count": 1,
   "id": "14bd6ee7",
   "metadata": {},
   "outputs": [
    {
     "name": "stdout",
     "output_type": "stream",
     "text": [
      "How many passwords: 4\n",
      "1th password: o-ZS9i\n",
      "2th password: S26(rAQ2bZ:I\n",
      "3th password: 8{|@5fK[\n",
      "4th password: _42#Y|l+gFO7A\n"
     ]
    },
    {
     "ename": "NameError",
     "evalue": "name 'generated' is not defined",
     "output_type": "error",
     "traceback": [
      "\u001b[1;31m---------------------------------------------------------------------------\u001b[0m",
      "\u001b[1;31mNameError\u001b[0m                                 Traceback (most recent call last)",
      "Cell \u001b[1;32mIn[1], line 22\u001b[0m\n\u001b[0;32m     20\u001b[0m     \u001b[38;5;28mprint\u001b[39m(\u001b[38;5;124mf\u001b[39m\u001b[38;5;124m\"\u001b[39m\u001b[38;5;132;01m{\u001b[39;00mi\u001b[38;5;241m+\u001b[39m\u001b[38;5;241m1\u001b[39m\u001b[38;5;132;01m}\u001b[39;00m\u001b[38;5;124mth password: \u001b[39m\u001b[38;5;132;01m{\u001b[39;00m\u001b[38;5;124m'\u001b[39m\u001b[38;5;124m'\u001b[39m\u001b[38;5;241m.\u001b[39mjoin(generated_passwords[i])\u001b[38;5;132;01m}\u001b[39;00m\u001b[38;5;124m\"\u001b[39m)\n\u001b[0;32m     21\u001b[0m \u001b[38;5;28;01mwith\u001b[39;00m \u001b[38;5;28mopen\u001b[39m(\u001b[38;5;124m\"\u001b[39m\u001b[38;5;124mpasswords.txt\u001b[39m\u001b[38;5;124m\"\u001b[39m,mode\u001b[38;5;241m=\u001b[39m\u001b[38;5;124m\"\u001b[39m\u001b[38;5;124mw\u001b[39m\u001b[38;5;124m\"\u001b[39m) \u001b[38;5;28;01mas\u001b[39;00m file1:\n\u001b[1;32m---> 22\u001b[0m     file1\u001b[38;5;241m.\u001b[39mwrite(generated\u001b[38;5;241m.\u001b[39mpasswords)\n",
      "\u001b[1;31mNameError\u001b[0m: name 'generated' is not defined"
     ]
    }
   ],
   "source": [
    "import random\n",
    "import string\n",
    "def password_generator(num):\n",
    "    matrix=[]\n",
    "    for i in range(num):\n",
    "        password_len=random.randint(6,16)\n",
    "        password=[]\n",
    "        password.append(random.choice(string.ascii_uppercase))\n",
    "        password.append(random.choice(string.ascii_lowercase))\n",
    "        password.append(random.choice(string.digits))\n",
    "        password.append(random.choice(string.punctuation))\n",
    "        for i in range(password_len-4):\n",
    "            password.append(random.choice(string.ascii_uppercase+string.ascii_lowercase+string.digits+string.punctuation))\n",
    "        random.shuffle(password)\n",
    "        matrix.append(password)\n",
    "    return matrix\n",
    "user_number=int(input(\"How many passwords: \"))\n",
    "generated_passwords=password_generator(user_number)\n",
    "for i in range(user_number):\n",
    "    print(f\"{i+1}th password: {''.join(generated_passwords[i])}\")\n",
    "with open(\"passwords.txt\",mode=\"w\") as file1:\n",
    "    file1.write(generated_passwords)"
   ]
  }
 ],
 "metadata": {
  "kernelspec": {
   "display_name": "Python 3 (ipykernel)",
   "language": "python",
   "name": "python3"
  },
  "language_info": {
   "codemirror_mode": {
    "name": "ipython",
    "version": 3
   },
   "file_extension": ".py",
   "mimetype": "text/x-python",
   "name": "python",
   "nbconvert_exporter": "python",
   "pygments_lexer": "ipython3",
   "version": "3.11.5"
  }
 },
 "nbformat": 4,
 "nbformat_minor": 5
}
