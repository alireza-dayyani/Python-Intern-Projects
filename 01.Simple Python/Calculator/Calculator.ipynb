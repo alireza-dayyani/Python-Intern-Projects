{
 "cells": [
  {
   "cell_type": "code",
   "execution_count": 5,
   "id": "838a100e",
   "metadata": {},
   "outputs": [
    {
     "ename": "TclError",
     "evalue": "bad geometry specifier \"400*200\"",
     "output_type": "error",
     "traceback": [
      "\u001b[1;31m---------------------------------------------------------------------------\u001b[0m",
      "\u001b[1;31mTclError\u001b[0m                                  Traceback (most recent call last)",
      "Cell \u001b[1;32mIn[5], line 4\u001b[0m\n\u001b[0;32m      2\u001b[0m window1\u001b[38;5;241m=\u001b[39mtkinter\u001b[38;5;241m.\u001b[39mTk()\n\u001b[0;32m      3\u001b[0m window1\u001b[38;5;241m.\u001b[39mtitle(\u001b[38;5;124m\"\u001b[39m\u001b[38;5;124mMy First Program\u001b[39m\u001b[38;5;124m\"\u001b[39m)\n\u001b[1;32m----> 4\u001b[0m window1\u001b[38;5;241m.\u001b[39mgeometry(\u001b[38;5;124m\"\u001b[39m\u001b[38;5;124m400*200\u001b[39m\u001b[38;5;124m\"\u001b[39m)\n\u001b[0;32m      5\u001b[0m window1\u001b[38;5;241m.\u001b[39mmainloop()\n",
      "File \u001b[1;32m~\\anaconda3\\Lib\\tkinter\\__init__.py:2100\u001b[0m, in \u001b[0;36mWm.wm_geometry\u001b[1;34m(self, newGeometry)\u001b[0m\n\u001b[0;32m   2097\u001b[0m \u001b[38;5;28;01mdef\u001b[39;00m \u001b[38;5;21mwm_geometry\u001b[39m(\u001b[38;5;28mself\u001b[39m, newGeometry\u001b[38;5;241m=\u001b[39m\u001b[38;5;28;01mNone\u001b[39;00m):\n\u001b[0;32m   2098\u001b[0m \u001b[38;5;250m    \u001b[39m\u001b[38;5;124;03m\"\"\"Set geometry to NEWGEOMETRY of the form =widthxheight+x+y. Return\u001b[39;00m\n\u001b[0;32m   2099\u001b[0m \u001b[38;5;124;03m    current value if None is given.\"\"\"\u001b[39;00m\n\u001b[1;32m-> 2100\u001b[0m     \u001b[38;5;28;01mreturn\u001b[39;00m \u001b[38;5;28mself\u001b[39m\u001b[38;5;241m.\u001b[39mtk\u001b[38;5;241m.\u001b[39mcall(\u001b[38;5;124m'\u001b[39m\u001b[38;5;124mwm\u001b[39m\u001b[38;5;124m'\u001b[39m, \u001b[38;5;124m'\u001b[39m\u001b[38;5;124mgeometry\u001b[39m\u001b[38;5;124m'\u001b[39m, \u001b[38;5;28mself\u001b[39m\u001b[38;5;241m.\u001b[39m_w, newGeometry)\n",
      "\u001b[1;31mTclError\u001b[0m: bad geometry specifier \"400*200\""
     ]
    }
   ],
   "source": [
    "import tkinter\n",
    "window1=tkinter.Tk()\n",
    "window1.title(\"My First Program\")\n",
    "window1.geometry(\"400*200\")\n",
    "window1.mainloop()"
   ]
  }
 ],
 "metadata": {
  "kernelspec": {
   "display_name": "Python 3 (ipykernel)",
   "language": "python",
   "name": "python3"
  },
  "language_info": {
   "codemirror_mode": {
    "name": "ipython",
    "version": 3
   },
   "file_extension": ".py",
   "mimetype": "text/x-python",
   "name": "python",
   "nbconvert_exporter": "python",
   "pygments_lexer": "ipython3",
   "version": "3.11.5"
  }
 },
 "nbformat": 4,
 "nbformat_minor": 5
}
