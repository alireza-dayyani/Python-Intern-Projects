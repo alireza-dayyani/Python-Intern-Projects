{
 "cells": [
  {
   "cell_type": "code",
   "execution_count": 4,
   "id": "90aef433",
   "metadata": {},
   "outputs": [
    {
     "name": "stdout",
     "output_type": "stream",
     "text": [
      "[['orange', 'banana'], ['orange', 'apple'], ['banana', 'melon'], ['kiwi', 'melon'], ['cherry', 'melon'], ['melon', 'apple'], ['kiwi', 'cherry'], ['cherry', 'apple'], ['orange', 'cherry'], ['kiwi', 'apple'], ['banana', 'cherry'], ['apple', 'banana'], ['kiwi', 'orange'], ['banana', 'kiwi'], ['melon', 'orange']]\n"
     ]
    }
   ],
   "source": [
    "import random\n",
    "fruits=[\"apple\",\"banana\",\"cherry\",\"kiwi\",\"orange\",\"melon\"]\n",
    "unique_pairs=[]\n",
    "while len(unique_pairs)<15:\n",
    "    pair=random.sample(fruits,2)\n",
    "    if pair not in unique_pairs and pair[::-1] not in unique_pairs:\n",
    "        unique_pairs.append(pair)\n",
    "print(unique_pairs)"
   ]
  }
 ],
 "metadata": {
  "kernelspec": {
   "display_name": "Python 3 (ipykernel)",
   "language": "python",
   "name": "python3"
  },
  "language_info": {
   "codemirror_mode": {
    "name": "ipython",
    "version": 3
   },
   "file_extension": ".py",
   "mimetype": "text/x-python",
   "name": "python",
   "nbconvert_exporter": "python",
   "pygments_lexer": "ipython3",
   "version": "3.11.5"
  }
 },
 "nbformat": 4,
 "nbformat_minor": 5
}
